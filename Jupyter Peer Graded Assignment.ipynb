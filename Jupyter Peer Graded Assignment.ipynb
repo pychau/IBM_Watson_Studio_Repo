{
    "cells": [
        {
            "cell_type": "markdown",
            "metadata": {
                "collapsed": true
            },
            "source": "# My Jupyter Notebook on IBM Watson Studio"
        },
        {
            "cell_type": "markdown",
            "metadata": {},
            "source": "**Philip**\n<br>Current Occupation: Senior Mechanical Engineer</br>"
        },
        {
            "cell_type": "markdown",
            "metadata": {},
            "source": "*My interest in Data Science came from needing a better method to find information at work. Teaching myself to navigate our database tables and write queries has streamlined my workflow significantly. Ever since I started I've been looking to learn more and Data Science appears to be a powerful tool for leveraging data to gain insight for making impactful decisions*"
        },
        {
            "cell_type": "markdown",
            "metadata": {},
            "source": "### The following code below will print the results of a for loop starting at the number 56 then incrementing by 7 each iteration and printing the results until the incremented value is equal to or greater than 110 and breaks the loop without printing the value that is equal to or greater than 110."
        },
        {
            "cell_type": "code",
            "execution_count": 11,
            "metadata": {},
            "outputs": [
                {
                    "name": "stdout",
                    "output_type": "stream",
                    "text": "56\n63\n70\n77\n84\n91\n98\n105\n"
                }
            ],
            "source": "for var in range(56,110,7):\n print (var)"
        },
        {
            "cell_type": "markdown",
            "metadata": {},
            "source": "```python\nstr=\"Here is an example of python syntax highlight\"\nprint (str)\n```\n\n|This  |is    |a     |table |\n|------|------|------|------|\n|Cell A|Cell B|Cell C|Cell D|\n\n\n[Click me to search for things](https://www.google.com \"Mouse over link to see me!!!\")"
        }
    ],
    "metadata": {
        "kernelspec": {
            "display_name": "Python 3.9",
            "language": "python",
            "name": "python3"
        },
        "language_info": {
            "codemirror_mode": {
                "name": "ipython",
                "version": 3
            },
            "file_extension": ".py",
            "mimetype": "text/x-python",
            "name": "python",
            "nbconvert_exporter": "python",
            "pygments_lexer": "ipython3",
            "version": "3.9.7"
        }
    },
    "nbformat": 4,
    "nbformat_minor": 1
}